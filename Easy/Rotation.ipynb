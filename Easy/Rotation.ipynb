{
 "cells": [
  {
   "cell_type": "markdown",
   "metadata": {},
   "source": [
    "# Problem Statement"
   ]
  },
  {
   "cell_type": "markdown",
   "metadata": {},
   "source": [
    "https://practice.geeksforgeeks.org/problems/rotation4723/1#\n",
    "# Given an ascending sorted rotated array Arr of distinct integers of size N. The array is right rotated K times. Find the value of K.\n",
    "\n",
    "Example 1:\n",
    "\n",
    "Input:\n",
    "N = 5\n",
    "\n",
    "Arr[] = {5, 1, 2, 3, 4}\n",
    "\n",
    "Output: 1\n",
    "\n",
    "Explanation: The given array is 5 1 2 3 4. \n",
    "The original sorted array is 1 2 3 4 5. \n",
    "We can see that the array was rotated \n",
    "1 times to the right.\n",
    "\n",
    "Example 2:\n",
    "\n",
    "Input:\n",
    "N = 5\n",
    "\n",
    "Arr[] = {1, 2, 3, 4, 5}\n",
    "\n",
    "Output: 0\n",
    "\n",
    "Explanation: The given array is not rotated.\n",
    "Your Task:\n",
    "Complete the function findKRotation() which takes array arr and size n, as input parameters and returns an integer representing the answer. You don't to print answer or take inputs.\n",
    "\n",
    "Expected Time Complexity: O(log(N))\n",
    "Expected Auxiliary Space: O(1)\n",
    "\n",
    "Constraints:\n",
    "1 <= N <=105\n",
    "1 <= Arri <= 107"
   ]
  },
  {
   "cell_type": "markdown",
   "metadata": {},
   "source": [
    "# code"
   ]
  },
  {
   "cell_type": "code",
   "execution_count": 9,
   "metadata": {},
   "outputs": [],
   "source": [
    "class Solution:\n",
    "    def findKRotation(self,arr, n):\n",
    "        start=0\n",
    "        end=n-1\n",
    "        if arr[0]<arr[n-1]:\n",
    "            return 0\n",
    "        while start<=end:\n",
    "            mid=start+end-start//2\n",
    "            nextt=(mid+1)%n\n",
    "            prev=(mid+n-1)%n\n",
    "            if arr[mid]<=arr[nextt] and arr[mid]<=arr[prev]:\n",
    "                return mid\n",
    "            elif arr[start]<arr[mid]:\n",
    "                start=mid+1\n",
    "            elif arr[start]>arr[mid]:\n",
    "                end=mid-1\n",
    "            else:\n",
    "                return 0\n",
    "        "
   ]
  },
  {
   "cell_type": "code",
   "execution_count": null,
   "metadata": {},
   "outputs": [],
   "source": []
  }
 ],
 "metadata": {
  "kernelspec": {
   "display_name": "Python 3",
   "language": "python",
   "name": "python3"
  },
  "language_info": {
   "codemirror_mode": {
    "name": "ipython",
    "version": 3
   },
   "file_extension": ".py",
   "mimetype": "text/x-python",
   "name": "python",
   "nbconvert_exporter": "python",
   "pygments_lexer": "ipython3",
   "version": "3.7.3"
  }
 },
 "nbformat": 4,
 "nbformat_minor": 2
}
