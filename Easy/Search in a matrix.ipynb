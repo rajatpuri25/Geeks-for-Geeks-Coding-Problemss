{
 "cells": [
  {
   "cell_type": "markdown",
   "metadata": {},
   "source": [
    "# Problem Statement"
   ]
  },
  {
   "cell_type": "markdown",
   "metadata": {},
   "source": [
    "https://practice.geeksforgeeks.org/problems/search-in-a-matrix17201720/1#\n",
    "\n",
    "Given a matrix mat[][] of size N x M, where every row and column is sorted in increasing order, and a number X is given. The task is to find whether element X is present in the matrix or not.\n",
    "\n",
    "\n",
    "Example 1:\n",
    "\n",
    "Input:\n",
    "\n",
    "N = 3, M = 3\n",
    "mat[][] = 3 30 38 \n",
    "         44 52 54 \n",
    "         57 60 69\n",
    "X = 62\n",
    "\n",
    "Output:\n",
    "0\n",
    "\n",
    "Explanation:\n",
    "62 is not present in the\n",
    "matrix, so output is 0\n",
    "\n",
    "Example 2:\n",
    "\n",
    "Input:\n",
    "N = 1, M = 6\n",
    "\n",
    "mat[][] = 18 21 27 38 55 67\n",
    "\n",
    "X = 55\n",
    "\n",
    "Output:\n",
    "1\n",
    "Explanation:\n",
    "55 is present in the\n",
    "matrix at 5th cell.\n",
    "\n",
    "Your Task:\n",
    "You don't need to read input or print anything. You just have to complete the function matSearch() which takes a 2D matrix mat[][], its dimensions N and M and integer X as inputs and returns 1 if the element X is present in the matrix and 0 otherwise.\n",
    "\n",
    "\n",
    "Expected Time Complexity: O(N+M).\n",
    "Expected Auxiliary Space: O(1).\n",
    "\n",
    "\n",
    "Constraints:\n",
    "1 <= N, M <= 1005\n",
    "1 <= mat[][] <= 10000000\n",
    "1<= X <= 10000000"
   ]
  },
  {
   "cell_type": "markdown",
   "metadata": {},
   "source": [
    "# Code"
   ]
  },
  {
   "cell_type": "code",
   "execution_count": 4,
   "metadata": {},
   "outputs": [
    {
     "name": "stdout",
     "output_type": "stream",
     "text": [
      "1\n",
      "1 6\n",
      "18 21 27 38 55 67\n",
      "55\n",
      "1\n"
     ]
    }
   ],
   "source": [
    "class Solution:\n",
    "\tdef matSearch(self,mat, N, M, X):\n",
    "\t    i=0\n",
    "\t    j=M-1\n",
    "\t    while(i>=0 and i<N and j>=0 and j<M):\n",
    "\t        if mat[i][j]==X:\n",
    "\t            return 1\n",
    "\t        elif X<mat[i][j]:\n",
    "\t            j=j-1\n",
    "\t        elif X>mat[i][j]:\n",
    "\t            i=i+1\n",
    "\t    return 0\n",
    "\n",
    "#{ \n",
    "#  Driver Code Starts\n",
    "#Initial Template for Python 3\n",
    "\n",
    "if __name__ == '__main__':\n",
    "    t = int(input())\n",
    "    for _ in range(t):\n",
    "        n, m = map(int, input().split())\n",
    "        \n",
    "        arr = [int(x) for x in input().split()]\n",
    "        x = int(input())\n",
    "        mat = [[0 for j in range(m)] for i in range(n)]\n",
    "        \n",
    "        for i in range(n):\n",
    "            for j in range(m):\n",
    "                mat[i][j] = arr[i * m + j]\n",
    "        ob = Solution()\n",
    "        print(ob.matSearch(mat, n, m, x))"
   ]
  },
  {
   "cell_type": "code",
   "execution_count": null,
   "metadata": {},
   "outputs": [],
   "source": []
  }
 ],
 "metadata": {
  "kernelspec": {
   "display_name": "Python 3",
   "language": "python",
   "name": "python3"
  },
  "language_info": {
   "codemirror_mode": {
    "name": "ipython",
    "version": 3
   },
   "file_extension": ".py",
   "mimetype": "text/x-python",
   "name": "python",
   "nbconvert_exporter": "python",
   "pygments_lexer": "ipython3",
   "version": "3.7.3"
  }
 },
 "nbformat": 4,
 "nbformat_minor": 2
}
