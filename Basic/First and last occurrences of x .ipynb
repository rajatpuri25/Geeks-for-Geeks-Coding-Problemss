{
 "cells": [
  {
   "cell_type": "markdown",
   "metadata": {},
   "source": [
    "# Problem Statement"
   ]
  },
  {
   "cell_type": "markdown",
   "metadata": {},
   "source": [
    "https://practice.geeksforgeeks.org/problems/first-and-last-occurrences-of-x3116/1#\n",
    "\n",
    "Given a sorted array arr containing n elements with possibly duplicate elements, the task is to find indexes of first and last occurrences of an element x in the given array.\n",
    "\n",
    "Example 1:\n",
    "\n",
    "Input:\n",
    "\n",
    "n=9, x=5\n",
    "\n",
    "arr[] = { 1, 3, 5, 5, 5, 5, 67, 123, 125 }\n",
    "\n",
    "Output:  2 5\n",
    "\n",
    "Explanation: First occurrence of 5 is at index 2 and last\n",
    "             occurrence of 5 is at index 5. \n",
    " \n",
    "\n",
    "Example 2:\n",
    "\n",
    "Input:\n",
    "\n",
    "n=9, x=7\n",
    "\n",
    "arr[] = { 1, 3, 5, 5, 5, 5, 7, 123, 125 }\n",
    "\n",
    "Output:  6 6 \n",
    "\n",
    "Your Task:\n",
    "Since, this is a function problem. You don't need to take any input, as it is already accomplished by the driver code. You just need to complete the function find() that takes array arr, integer n and integer x as parameters and returns the required answer.\n",
    "\n",
    "Note: If the number x is not found in the array just return both index as -1.\n",
    "\n",
    " \n",
    "\n",
    "Expected Time Complexity: O(logN)\n",
    "Expected Auxiliary Space: O(1).\n",
    "\n",
    " \n",
    "\n",
    "Constraints:\n",
    "1 ≤ N ≤ 107"
   ]
  },
  {
   "cell_type": "markdown",
   "metadata": {},
   "source": [
    "# Code"
   ]
  },
  {
   "cell_type": "code",
   "execution_count": 4,
   "metadata": {},
   "outputs": [],
   "source": [
    "def BS_last(arr,n,x):\n",
    "    start=0\n",
    "    end=n-1\n",
    "    res=-1\n",
    "    while start<=end:\n",
    "        mid=start+(end-start)//2\n",
    "        if arr[mid]==x:\n",
    "            res=mid\n",
    "            start=mid+1\n",
    "        elif arr[mid]>x:\n",
    "            end=mid-1\n",
    "        else:\n",
    "            start=mid+1\n",
    "    return res\n",
    "def BS_first(arr,n,x):\n",
    "    start=0\n",
    "    end=n-1\n",
    "    res=-1\n",
    "    while start<=end:\n",
    "        mid=start+(end-start)//2\n",
    "        if arr[mid]==x:\n",
    "            res=mid\n",
    "            end=mid-1\n",
    "        elif arr[mid]>x:\n",
    "            end=mid-1\n",
    "        else:\n",
    "            start=mid+1\n",
    "    return res\n",
    "\n",
    "def find(arr,n,x):\n",
    "    return[BS_first(arr,n,x),BS_last(arr,n,x)]"
   ]
  },
  {
   "cell_type": "code",
   "execution_count": null,
   "metadata": {},
   "outputs": [],
   "source": []
  }
 ],
 "metadata": {
  "kernelspec": {
   "display_name": "Python 3",
   "language": "python",
   "name": "python3"
  },
  "language_info": {
   "codemirror_mode": {
    "name": "ipython",
    "version": 3
   },
   "file_extension": ".py",
   "mimetype": "text/x-python",
   "name": "python",
   "nbconvert_exporter": "python",
   "pygments_lexer": "ipython3",
   "version": "3.7.3"
  }
 },
 "nbformat": 4,
 "nbformat_minor": 2
}
