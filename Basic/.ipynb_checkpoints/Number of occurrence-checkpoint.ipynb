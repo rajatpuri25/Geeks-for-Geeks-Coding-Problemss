{
 "cells": [
  {
   "cell_type": "markdown",
   "metadata": {},
   "source": [
    "# Problem Statement"
   ]
  },
  {
   "cell_type": "markdown",
   "metadata": {},
   "source": [
    "https://practice.geeksforgeeks.org/problems/number-of-occurrence2259/1#\n",
    "\n",
    "Given a sorted array Arr of size N and a number X, you need to find the number of occurrences of X in Arr.\n",
    "\n",
    "Example 1:\n",
    "\n",
    "Input:\n",
    "N = 7, X = 2\n",
    "Arr[] = {1, 1, 2, 2, 2, 2, 3}\n",
    "\n",
    "Output: 4\n",
    "\n",
    "Explanation: 2 occurs 4 times in the\n",
    "given array.\n",
    "\n",
    "Example 2:\n",
    "\n",
    "Input:\n",
    "N = 7, X = 4\n",
    "Arr[] = {1, 1, 2, 2, 2, 2, 3}\n",
    "\n",
    "Output: 0\n",
    "\n",
    "Explanation: 4 is not present in the\n",
    "given array.\n",
    "\n",
    "Your Task:\n",
    "You don't need to read input or print anything. Your task is to complete the function count() which takes the array of integers arr, n and x as parameters and returns an integer denoting the answer.\n",
    "\n",
    "Expected Time Complexity: O(logN)\n",
    "Expected Auxiliary Space: O(1)\n",
    "\n",
    "Constraints:\n",
    "1 ≤ N ≤ 105\n",
    "1 ≤ Arr[i] ≤ 106\n",
    "1 ≤ X ≤ 106"
   ]
  },
  {
   "cell_type": "markdown",
   "metadata": {},
   "source": [
    "# Code"
   ]
  },
  {
   "cell_type": "code",
   "execution_count": 3,
   "metadata": {},
   "outputs": [],
   "source": [
    "class Solution:\n",
    "    def BS_last(self,arr,n,x):\n",
    "        start=0\n",
    "        end=n-1\n",
    "        res=-1\n",
    "        while start<=end:\n",
    "            mid=start+(end-start)//2\n",
    "            if arr[mid]==x:\n",
    "                res=mid\n",
    "                start=mid+1\n",
    "            elif arr[mid]>x:\n",
    "                end=mid-1\n",
    "            else:\n",
    "                start=mid+1\n",
    "        return res\n",
    "\n",
    "    def BS_first(self,arr,n,x):\n",
    "        start=0\n",
    "        end=n-1\n",
    "        res=0\n",
    "        while start<=end:\n",
    "            mid=start+(end-start)//2\n",
    "            if arr[mid]==x:\n",
    "                res=mid\n",
    "                end=mid-1\n",
    "            elif arr[mid]>x:\n",
    "                end=mid-1\n",
    "            else:\n",
    "                start=mid+1\n",
    "        return res\n",
    "\n",
    "    def count(self,arr, n, x):\n",
    "        i=self.BS_last(arr,n,x)\n",
    "        j=self.BS_first(arr,n,x)\n",
    "        if j==-1:\n",
    "            return j\n",
    "        return i-j+1"
   ]
  },
  {
   "cell_type": "code",
   "execution_count": null,
   "metadata": {},
   "outputs": [],
   "source": []
  }
 ],
 "metadata": {
  "kernelspec": {
   "display_name": "Python 3",
   "language": "python",
   "name": "python3"
  },
  "language_info": {
   "codemirror_mode": {
    "name": "ipython",
    "version": 3
   },
   "file_extension": ".py",
   "mimetype": "text/x-python",
   "name": "python",
   "nbconvert_exporter": "python",
   "pygments_lexer": "ipython3",
   "version": "3.7.3"
  }
 },
 "nbformat": 4,
 "nbformat_minor": 2
}
