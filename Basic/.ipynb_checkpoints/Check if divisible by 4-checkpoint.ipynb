{
 "cells": [
  {
   "cell_type": "markdown",
   "metadata": {},
   "source": [
    "# Problem Statement"
   ]
  },
  {
   "cell_type": "markdown",
   "metadata": {},
   "source": [
    "Given a number N. Check whether it is divisble by 4.\n",
    "\n",
    "Example 1:\n",
    "\n",
    "Input:\n",
    "\n",
    "N = 1124\n",
    "\n",
    "Output: 1\n",
    "\n",
    "Explanation: The number is divisible by 4\n",
    "\n",
    "as 1124 % 4 = 0.\n",
    "\n",
    "Example 2:\n",
    "\n",
    "Input: \n",
    "\n",
    "N = 7\n",
    "\n",
    "Output: 0\n",
    "\n",
    "Explanation: The number is not divisibly by 4 as 7 % 4 = 3.\n",
    "\n",
    "Your Task:\n",
    "You don't need to read input or print anything. Your task is to complete the function divisibleBy4() which takes the number in the form of a string N as input and returns 1 if the number is divisible by 4. Else, it returns 0.\n",
    "\n",
    "\n",
    "Expected Time Complexity: O(1).\n",
    "Expected Auxiliary Space: O(1)."
   ]
  },
  {
   "cell_type": "markdown",
   "metadata": {},
   "source": [
    "# Code"
   ]
  },
  {
   "cell_type": "code",
   "execution_count": 1,
   "metadata": {},
   "outputs": [],
   "source": [
    "class Solution:\n",
    "\tdef divisibleBy4 (self, N):\n",
    "\t\t# Your Code Here\n",
    "\t\tif int(N)%4==0:\n",
    "\t\t    return 1\n",
    "\t\treturn 0"
   ]
  },
  {
   "cell_type": "code",
   "execution_count": null,
   "metadata": {},
   "outputs": [],
   "source": []
  }
 ],
 "metadata": {
  "kernelspec": {
   "display_name": "Python 3",
   "language": "python",
   "name": "python3"
  },
  "language_info": {
   "codemirror_mode": {
    "name": "ipython",
    "version": 3
   },
   "file_extension": ".py",
   "mimetype": "text/x-python",
   "name": "python",
   "nbconvert_exporter": "python",
   "pygments_lexer": "ipython3",
   "version": "3.7.3"
  }
 },
 "nbformat": 4,
 "nbformat_minor": 2
}
