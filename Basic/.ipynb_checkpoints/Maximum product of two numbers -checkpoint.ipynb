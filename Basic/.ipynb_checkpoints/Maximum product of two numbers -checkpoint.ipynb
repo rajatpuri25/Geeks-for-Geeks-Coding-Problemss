{
 "cells": [
  {
   "cell_type": "markdown",
   "metadata": {},
   "source": [
    "# Problem Statement"
   ]
  },
  {
   "cell_type": "markdown",
   "metadata": {},
   "source": [
    "Given an array Arr of size N with all elements greater than or equal to zero. Return the maximum product of two numbers possible.\n",
    "\n",
    "Example 1:\n",
    "\n",
    "Input: \n",
    "N = 6\n",
    "Arr[] = {1, 4, 3, 6, 7, 0}  \n",
    "Output: 42\n",
    "\n",
    "Example 2:\n",
    "\n",
    "Input: \n",
    "N = 5\n",
    "Arr = {1, 100, 42, 4, 23}\n",
    "Output: 4200\n",
    "Your Task:  \n",
    "You don't need to read input or print anything. Your task is to complete the function maxProduct() which takes the array of integers arr[] and n as parameters and returns an integer denoting the answer.\n",
    "\n",
    "Expected Time Complexity: O(N)\n",
    "Expected Auxiliary Space: O(1)\n",
    "\n",
    "Constraints:\n",
    "2 ≤ N ≤ 107\n",
    "0 ≤ Arr[i] ≤ 104"
   ]
  },
  {
   "cell_type": "markdown",
   "metadata": {},
   "source": [
    "# Code (Time Complexity: O(nlog n) Auxiliary Space: O(1))"
   ]
  },
  {
   "cell_type": "code",
   "execution_count": 3,
   "metadata": {},
   "outputs": [],
   "source": [
    "class Solution:\n",
    "\n",
    "    def maxProduct(self,arr, n):\n",
    "        arr.sort(reverse=True)\n",
    "        return arr[0]*arr[1]"
   ]
  },
  {
   "cell_type": "markdown",
   "metadata": {},
   "source": [
    "# Code (Time Complexity: O(n) Auxiliary Space: O(1))"
   ]
  },
  {
   "cell_type": "code",
   "execution_count": 2,
   "metadata": {},
   "outputs": [],
   "source": [
    "class Solution:\n",
    "    def maxProduct(self,arr, n):\n",
    "        posa = 0\n",
    "        posb = 0\n",
    "        nega = 0\n",
    "        negb = 0\n",
    "        for i in range(n):\n",
    "            if (arr[i] > posa):\n",
    "                posb = posa\n",
    "                posa = arr[i]\n",
    "            elif (arr[i] > posb):\n",
    "                posb = arr[i]\n",
    "                \n",
    "            if (arr[i] < 0 and abs(arr[i]) > abs(nega)):\n",
    "                negb = nega\n",
    "                nega = arr[i]\n",
    "                \n",
    "            elif(arr[i] < 0 and abs(arr[i]) > abs(negb)):\n",
    "                negb = arr[i]\n",
    "                \n",
    "        if (nega * negb > posa * posb):\n",
    "            return nega*negb\n",
    "        else:\n",
    "            return posa*posb"
   ]
  },
  {
   "cell_type": "code",
   "execution_count": null,
   "metadata": {},
   "outputs": [],
   "source": []
  }
 ],
 "metadata": {
  "kernelspec": {
   "display_name": "Python 3",
   "language": "python",
   "name": "python3"
  },
  "language_info": {
   "codemirror_mode": {
    "name": "ipython",
    "version": 3
   },
   "file_extension": ".py",
   "mimetype": "text/x-python",
   "name": "python",
   "nbconvert_exporter": "python",
   "pygments_lexer": "ipython3",
   "version": "3.7.3"
  }
 },
 "nbformat": 4,
 "nbformat_minor": 2
}
