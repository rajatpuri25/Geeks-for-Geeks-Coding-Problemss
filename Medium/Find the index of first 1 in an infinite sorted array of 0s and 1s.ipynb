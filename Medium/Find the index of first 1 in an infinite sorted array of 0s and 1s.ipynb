{
 "cells": [
  {
   "cell_type": "markdown",
   "metadata": {},
   "source": [
    "# Problem Statement"
   ]
  },
  {
   "cell_type": "markdown",
   "metadata": {},
   "source": [
    "https://www.geeksforgeeks.org/find-index-first-1-infinite-sorted-array-0s-1s/\n",
    "\n",
    "Given an infinite sorted array consisting 0s and 1s. The problem is to find the index of first ‘1’ in that array. As the array is infinite, therefore it is guaranteed that number ‘1’ will be present in the array.\n",
    "\n",
    "Examples: \n",
    " \n",
    "\n",
    "Input : arr[] = {0, 0, 1, 1, 1, 1} \n",
    "\n",
    "Output : 2\n",
    "\n",
    "Input : arr[] = {1, 1, 1, 1,1, 1}\n",
    "\n",
    "Output : 0"
   ]
  },
  {
   "cell_type": "markdown",
   "metadata": {},
   "source": [
    "# Code"
   ]
  },
  {
   "cell_type": "code",
   "execution_count": 2,
   "metadata": {},
   "outputs": [
    {
     "name": "stdout",
     "output_type": "stream",
     "text": [
      "Element found at index 5\n"
     ]
    }
   ],
   "source": [
    "def BS(arr,start,end,x):\n",
    "    res=0\n",
    "    while start<=end:\n",
    "        mid = start+(end-start)//2\n",
    "        if x==arr[mid]:\n",
    "            res=mid\n",
    "            end = mid-1\n",
    "        elif x>arr[mid]:\n",
    "            start=mid+1\n",
    "        elif x<arr[mid]:\n",
    "            end=mid-1\n",
    "    return res\n",
    "    \n",
    "def infinitearray(arr,x):\n",
    "    start=0\n",
    "    end=1\n",
    "    while arr[end]==0:\n",
    "        start=end\n",
    "        end=end*2\n",
    "        \n",
    "    return BS(arr,start,end,x)\n",
    "\n",
    "arr = [0,0,0,0,0,1,1,1,1]\n",
    "ans = infinitearray(arr,1)\n",
    "if ans == -1:\n",
    "    print (\"Element not found\")\n",
    "else:\n",
    "    print(\"Element found at index\",ans)\n",
    "    "
   ]
  },
  {
   "cell_type": "code",
   "execution_count": null,
   "metadata": {},
   "outputs": [],
   "source": []
  }
 ],
 "metadata": {
  "kernelspec": {
   "display_name": "Python 3",
   "language": "python",
   "name": "python3"
  },
  "language_info": {
   "codemirror_mode": {
    "name": "ipython",
    "version": 3
   },
   "file_extension": ".py",
   "mimetype": "text/x-python",
   "name": "python",
   "nbconvert_exporter": "python",
   "pygments_lexer": "ipython3",
   "version": "3.7.3"
  }
 },
 "nbformat": 4,
 "nbformat_minor": 2
}
