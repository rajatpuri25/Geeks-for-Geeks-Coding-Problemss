{
 "cells": [
  {
   "cell_type": "markdown",
   "metadata": {},
   "source": [
    "# Problem Statement"
   ]
  },
  {
   "cell_type": "markdown",
   "metadata": {},
   "source": [
    "https://www.geeksforgeeks.org/find-position-element-sorted-array-infinite-numbers/\n",
    "\n",
    "Suppose you have a sorted array of infinite numbers, how would you search an element in the array?"
   ]
  },
  {
   "cell_type": "markdown",
   "metadata": {},
   "source": [
    "# Solution "
   ]
  },
  {
   "cell_type": "markdown",
   "metadata": {},
   "source": [
    "Since array is sorted, the first thing clicks into mind is binary search, but the problem here is that we don’t know size of array. \n",
    "\n",
    "If the array is infinite, that means we don’t have proper bounds to apply binary search. So in order to find position of key, first we find bounds and then apply binary search algorithm.\n",
    "\n",
    "Let low be pointing to 1st element and high pointing to 2nd element of array, Now compare key with high index element, \n",
    "\n",
    "->if it is greater than high index element then copy high index in low index and double the high index. \n",
    "\n",
    "->if it is smaller, then apply binary search on high and low indices found."
   ]
  },
  {
   "cell_type": "markdown",
   "metadata": {},
   "source": [
    "# Code "
   ]
  },
  {
   "cell_type": "code",
   "execution_count": 2,
   "metadata": {},
   "outputs": [
    {
     "name": "stdout",
     "output_type": "stream",
     "text": [
      "Element found at index 4\n"
     ]
    }
   ],
   "source": [
    "def BS(arr,start,end,x):\n",
    "    while start<=end:\n",
    "        mid = start+(end-start)//2\n",
    "        if x==arr[mid]:\n",
    "            return mid\n",
    "        elif x>arr[mid]:\n",
    "            start=mid+1\n",
    "        elif x<arr[mid]:\n",
    "            end=mid-1\n",
    "    return -1\n",
    "    \n",
    "def infinitearray(arr,x):\n",
    "    start=0\n",
    "    end=1\n",
    "    while x>arr[end]:\n",
    "        start=end\n",
    "        end=end*2\n",
    "        \n",
    "    return BS(arr,start,end,x)\n",
    "\n",
    "arr = [3, 5, 7, 9, 10, 90, 100, 130, 140, 160, 170]\n",
    "ans = infinitearray(arr,10)\n",
    "if ans == -1:\n",
    "    print (\"Element not found\")\n",
    "else:\n",
    "    print(\"Element found at index\",ans)\n",
    "    "
   ]
  },
  {
   "cell_type": "code",
   "execution_count": null,
   "metadata": {},
   "outputs": [],
   "source": []
  }
 ],
 "metadata": {
  "kernelspec": {
   "display_name": "Python 3",
   "language": "python",
   "name": "python3"
  },
  "language_info": {
   "codemirror_mode": {
    "name": "ipython",
    "version": 3
   },
   "file_extension": ".py",
   "mimetype": "text/x-python",
   "name": "python",
   "nbconvert_exporter": "python",
   "pygments_lexer": "ipython3",
   "version": "3.7.3"
  }
 },
 "nbformat": 4,
 "nbformat_minor": 2
}
