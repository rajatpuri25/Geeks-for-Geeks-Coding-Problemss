{
 "cells": [
  {
   "cell_type": "markdown",
   "metadata": {},
   "source": [
    "# Problem Statement"
   ]
  },
  {
   "cell_type": "markdown",
   "metadata": {},
   "source": [
    "Given an array Arr of size N, print all its elements.\n",
    "\n",
    "Example 1:\n",
    "\n",
    "Input:\n",
    "N = 5\n",
    "\n",
    "Arr[] = {1, 2, 3, 4, 5}\n",
    "\n",
    "Output: 1 2 3 4 5\n",
    "\n",
    "Example 2:\n",
    "\n",
    "Input:\n",
    "N = 4\n",
    "Arr[] = {2, 3, 5, 5}\n",
    "\n",
    "Output: 2 3 5 5\n",
    "\n",
    "Your Task:\n",
    "\n",
    "Complete the function printArray() which takes an array arr, single integer n, as input parameters and prints the value of the array space separated.\n",
    "\n",
    "Expected Time Complexity: O(N)\n",
    "Expected Auxiliary Space: O(1)\n",
    "\n",
    "\n",
    "Constraints:\n",
    "1 <= N <= 105\n",
    "1 <= Arr[i] <= 105"
   ]
  },
  {
   "cell_type": "markdown",
   "metadata": {},
   "source": [
    "# Code\n"
   ]
  },
  {
   "cell_type": "code",
   "execution_count": 1,
   "metadata": {},
   "outputs": [],
   "source": [
    "class Solution:\n",
    "\n",
    "\tdef printArray(self,arr, n):\n",
    "\t    for i in range(len(arr)):\n",
    "\t        print(arr[i],end=\" \")"
   ]
  },
  {
   "cell_type": "code",
   "execution_count": null,
   "metadata": {},
   "outputs": [],
   "source": []
  }
 ],
 "metadata": {
  "kernelspec": {
   "display_name": "Python 3",
   "language": "python",
   "name": "python3"
  },
  "language_info": {
   "codemirror_mode": {
    "name": "ipython",
    "version": 3
   },
   "file_extension": ".py",
   "mimetype": "text/x-python",
   "name": "python",
   "nbconvert_exporter": "python",
   "pygments_lexer": "ipython3",
   "version": "3.7.3"
  }
 },
 "nbformat": 4,
 "nbformat_minor": 2
}
