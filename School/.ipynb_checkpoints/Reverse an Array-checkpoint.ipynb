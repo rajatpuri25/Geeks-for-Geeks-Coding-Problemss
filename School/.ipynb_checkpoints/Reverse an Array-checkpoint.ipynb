{
 "cells": [
  {
   "cell_type": "markdown",
   "metadata": {},
   "source": [
    "# Problem Statement"
   ]
  },
  {
   "cell_type": "markdown",
   "metadata": {},
   "source": [
    "Given an array A of size N, print the reverse of it.\n",
    "\n",
    "Input:\n",
    "First line contains an integer denoting the test cases 'T'. T testcases follow. Each testcase contains two lines of input. First line contains N the size of the array A. The second line contains the elements of the array.\n",
    "\n",
    "Output:\n",
    "For each testcase, in a new line, print the array in reverse order.\n",
    "\n",
    "Constraints:\n",
    "1 <= T <= 100\n",
    "1 <= N <=100\n",
    "0 <= Ai <= 100\n",
    "\n",
    "Example:\n",
    "Input:\n",
    "1\n",
    "4\n",
    "\n",
    "1 2 3 4\n",
    "\n",
    "Output:\n",
    "4 3 2 1"
   ]
  },
  {
   "cell_type": "markdown",
   "metadata": {},
   "source": [
    "# Code"
   ]
  },
  {
   "cell_type": "code",
   "execution_count": 1,
   "metadata": {},
   "outputs": [
    {
     "name": "stdout",
     "output_type": "stream",
     "text": [
      "1\n",
      "4\n",
      "1 2 3 4 \n",
      "4 3 2 1 \n"
     ]
    }
   ],
   "source": [
    "T=int(input())\n",
    "while T:\n",
    "    N=int(input())\n",
    "    arr=list(map(int,input().split()))\n",
    "    arr.reverse()\n",
    "    for i in arr:\n",
    "        print(i,end=\" \")\n",
    "    print()\n",
    "    T-=1"
   ]
  },
  {
   "cell_type": "code",
   "execution_count": null,
   "metadata": {},
   "outputs": [],
   "source": []
  }
 ],
 "metadata": {
  "kernelspec": {
   "display_name": "Python 3",
   "language": "python",
   "name": "python3"
  },
  "language_info": {
   "codemirror_mode": {
    "name": "ipython",
    "version": 3
   },
   "file_extension": ".py",
   "mimetype": "text/x-python",
   "name": "python",
   "nbconvert_exporter": "python",
   "pygments_lexer": "ipython3",
   "version": "3.7.3"
  }
 },
 "nbformat": 4,
 "nbformat_minor": 2
}
