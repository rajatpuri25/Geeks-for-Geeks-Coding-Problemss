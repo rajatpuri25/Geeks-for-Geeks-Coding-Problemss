{
 "cells": [
  {
   "cell_type": "markdown",
   "metadata": {},
   "source": [
    "# Problem Statement"
   ]
  },
  {
   "cell_type": "markdown",
   "metadata": {},
   "source": [
    "Write a program to find the sum of the given series 1+2+3+ . . . . . .(N terms) \n",
    "\n",
    "Example 1:\n",
    "\n",
    "Input:\n",
    "N = 1\n",
    "\n",
    "Output: 1\n",
    "\n",
    "Explanation: For n = 1, sum will be 1.\n",
    "\n",
    "Example 2:\n",
    "\n",
    "Input:\n",
    "N = 5\n",
    "\n",
    "Output: 15\n",
    "\n",
    "Explanation: For n = 5, sum will be 1+ 2 + 3 + 4 + 5 = 15.\n",
    "\n",
    "Your Task:\n",
    "Complete the function seriesSum() which takes single integer n, as input parameters and returns an integer denoting the answer. You don't to print answer or take inputs.\n",
    "\n",
    "Expected Time Complexity: O(1)\n",
    "Expected Auxiliary Space: O(1)\n",
    "\n",
    "Constraints:\n",
    "1 <= N <= 105\n",
    "\n"
   ]
  },
  {
   "cell_type": "markdown",
   "metadata": {},
   "source": [
    "# Code"
   ]
  },
  {
   "cell_type": "code",
   "execution_count": 1,
   "metadata": {},
   "outputs": [],
   "source": [
    "class Solution:\n",
    "\n",
    "\t\n",
    "\tdef seriesSum(self,n):\n",
    "\t    x=(n*(n+1))/2\n",
    "\t    return (int(x))"
   ]
  },
  {
   "cell_type": "code",
   "execution_count": null,
   "metadata": {},
   "outputs": [],
   "source": []
  }
 ],
 "metadata": {
  "kernelspec": {
   "display_name": "Python 3",
   "language": "python",
   "name": "python3"
  },
  "language_info": {
   "codemirror_mode": {
    "name": "ipython",
    "version": 3
   },
   "file_extension": ".py",
   "mimetype": "text/x-python",
   "name": "python",
   "nbconvert_exporter": "python",
   "pygments_lexer": "ipython3",
   "version": "3.7.3"
  }
 },
 "nbformat": 4,
 "nbformat_minor": 2
}
